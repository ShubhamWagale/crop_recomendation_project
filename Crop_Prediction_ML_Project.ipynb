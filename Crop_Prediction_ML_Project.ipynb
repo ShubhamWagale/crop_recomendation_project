{
  "nbformat": 4,
  "nbformat_minor": 0,
  "metadata": {
    "colab": {
      "provenance": [],
      "include_colab_link": true
    },
    "kernelspec": {
      "name": "python3",
      "display_name": "Python 3"
    },
    "language_info": {
      "name": "python"
    }
  },
  "cells": [
    {
      "cell_type": "markdown",
      "metadata": {
        "id": "view-in-github",
        "colab_type": "text"
      },
      "source": [
        "<a href=\"https://colab.research.google.com/github/AST258/-Crop_Recommendation_System/blob/main/Crop_Prediction_ML_Project.ipynb\" target=\"_parent\"><img src=\"https://colab.research.google.com/assets/colab-badge.svg\" alt=\"Open In Colab\"/></a>"
      ]
    },
    {
      "cell_type": "markdown",
      "source": [
        "#Importing Dataset From Kaggle"
      ],
      "metadata": {
        "id": "dZhooU1YVAlK"
      }
    },
    {
      "cell_type": "code",
      "execution_count": null,
      "metadata": {
        "colab": {
          "base_uri": "https://localhost:8080/",
          "height": 90
        },
        "id": "k3uK8dhxP5KA",
        "outputId": "4d582abf-be85-4627-c352-6465c557b41f"
      },
      "outputs": [
        {
          "output_type": "display_data",
          "data": {
            "text/plain": [
              "<IPython.core.display.HTML object>"
            ],
            "text/html": [
              "\n",
              "     <input type=\"file\" id=\"files-c4564fa2-a630-4ab8-b89a-ccfeebeab9c0\" name=\"files[]\" multiple disabled\n",
              "        style=\"border:none\" />\n",
              "     <output id=\"result-c4564fa2-a630-4ab8-b89a-ccfeebeab9c0\">\n",
              "      Upload widget is only available when the cell has been executed in the\n",
              "      current browser session. Please rerun this cell to enable.\n",
              "      </output>\n",
              "      <script>// Copyright 2017 Google LLC\n",
              "//\n",
              "// Licensed under the Apache License, Version 2.0 (the \"License\");\n",
              "// you may not use this file except in compliance with the License.\n",
              "// You may obtain a copy of the License at\n",
              "//\n",
              "//      http://www.apache.org/licenses/LICENSE-2.0\n",
              "//\n",
              "// Unless required by applicable law or agreed to in writing, software\n",
              "// distributed under the License is distributed on an \"AS IS\" BASIS,\n",
              "// WITHOUT WARRANTIES OR CONDITIONS OF ANY KIND, either express or implied.\n",
              "// See the License for the specific language governing permissions and\n",
              "// limitations under the License.\n",
              "\n",
              "/**\n",
              " * @fileoverview Helpers for google.colab Python module.\n",
              " */\n",
              "(function(scope) {\n",
              "function span(text, styleAttributes = {}) {\n",
              "  const element = document.createElement('span');\n",
              "  element.textContent = text;\n",
              "  for (const key of Object.keys(styleAttributes)) {\n",
              "    element.style[key] = styleAttributes[key];\n",
              "  }\n",
              "  return element;\n",
              "}\n",
              "\n",
              "// Max number of bytes which will be uploaded at a time.\n",
              "const MAX_PAYLOAD_SIZE = 100 * 1024;\n",
              "\n",
              "function _uploadFiles(inputId, outputId) {\n",
              "  const steps = uploadFilesStep(inputId, outputId);\n",
              "  const outputElement = document.getElementById(outputId);\n",
              "  // Cache steps on the outputElement to make it available for the next call\n",
              "  // to uploadFilesContinue from Python.\n",
              "  outputElement.steps = steps;\n",
              "\n",
              "  return _uploadFilesContinue(outputId);\n",
              "}\n",
              "\n",
              "// This is roughly an async generator (not supported in the browser yet),\n",
              "// where there are multiple asynchronous steps and the Python side is going\n",
              "// to poll for completion of each step.\n",
              "// This uses a Promise to block the python side on completion of each step,\n",
              "// then passes the result of the previous step as the input to the next step.\n",
              "function _uploadFilesContinue(outputId) {\n",
              "  const outputElement = document.getElementById(outputId);\n",
              "  const steps = outputElement.steps;\n",
              "\n",
              "  const next = steps.next(outputElement.lastPromiseValue);\n",
              "  return Promise.resolve(next.value.promise).then((value) => {\n",
              "    // Cache the last promise value to make it available to the next\n",
              "    // step of the generator.\n",
              "    outputElement.lastPromiseValue = value;\n",
              "    return next.value.response;\n",
              "  });\n",
              "}\n",
              "\n",
              "/**\n",
              " * Generator function which is called between each async step of the upload\n",
              " * process.\n",
              " * @param {string} inputId Element ID of the input file picker element.\n",
              " * @param {string} outputId Element ID of the output display.\n",
              " * @return {!Iterable<!Object>} Iterable of next steps.\n",
              " */\n",
              "function* uploadFilesStep(inputId, outputId) {\n",
              "  const inputElement = document.getElementById(inputId);\n",
              "  inputElement.disabled = false;\n",
              "\n",
              "  const outputElement = document.getElementById(outputId);\n",
              "  outputElement.innerHTML = '';\n",
              "\n",
              "  const pickedPromise = new Promise((resolve) => {\n",
              "    inputElement.addEventListener('change', (e) => {\n",
              "      resolve(e.target.files);\n",
              "    });\n",
              "  });\n",
              "\n",
              "  const cancel = document.createElement('button');\n",
              "  inputElement.parentElement.appendChild(cancel);\n",
              "  cancel.textContent = 'Cancel upload';\n",
              "  const cancelPromise = new Promise((resolve) => {\n",
              "    cancel.onclick = () => {\n",
              "      resolve(null);\n",
              "    };\n",
              "  });\n",
              "\n",
              "  // Wait for the user to pick the files.\n",
              "  const files = yield {\n",
              "    promise: Promise.race([pickedPromise, cancelPromise]),\n",
              "    response: {\n",
              "      action: 'starting',\n",
              "    }\n",
              "  };\n",
              "\n",
              "  cancel.remove();\n",
              "\n",
              "  // Disable the input element since further picks are not allowed.\n",
              "  inputElement.disabled = true;\n",
              "\n",
              "  if (!files) {\n",
              "    return {\n",
              "      response: {\n",
              "        action: 'complete',\n",
              "      }\n",
              "    };\n",
              "  }\n",
              "\n",
              "  for (const file of files) {\n",
              "    const li = document.createElement('li');\n",
              "    li.append(span(file.name, {fontWeight: 'bold'}));\n",
              "    li.append(span(\n",
              "        `(${file.type || 'n/a'}) - ${file.size} bytes, ` +\n",
              "        `last modified: ${\n",
              "            file.lastModifiedDate ? file.lastModifiedDate.toLocaleDateString() :\n",
              "                                    'n/a'} - `));\n",
              "    const percent = span('0% done');\n",
              "    li.appendChild(percent);\n",
              "\n",
              "    outputElement.appendChild(li);\n",
              "\n",
              "    const fileDataPromise = new Promise((resolve) => {\n",
              "      const reader = new FileReader();\n",
              "      reader.onload = (e) => {\n",
              "        resolve(e.target.result);\n",
              "      };\n",
              "      reader.readAsArrayBuffer(file);\n",
              "    });\n",
              "    // Wait for the data to be ready.\n",
              "    let fileData = yield {\n",
              "      promise: fileDataPromise,\n",
              "      response: {\n",
              "        action: 'continue',\n",
              "      }\n",
              "    };\n",
              "\n",
              "    // Use a chunked sending to avoid message size limits. See b/62115660.\n",
              "    let position = 0;\n",
              "    do {\n",
              "      const length = Math.min(fileData.byteLength - position, MAX_PAYLOAD_SIZE);\n",
              "      const chunk = new Uint8Array(fileData, position, length);\n",
              "      position += length;\n",
              "\n",
              "      const base64 = btoa(String.fromCharCode.apply(null, chunk));\n",
              "      yield {\n",
              "        response: {\n",
              "          action: 'append',\n",
              "          file: file.name,\n",
              "          data: base64,\n",
              "        },\n",
              "      };\n",
              "\n",
              "      let percentDone = fileData.byteLength === 0 ?\n",
              "          100 :\n",
              "          Math.round((position / fileData.byteLength) * 100);\n",
              "      percent.textContent = `${percentDone}% done`;\n",
              "\n",
              "    } while (position < fileData.byteLength);\n",
              "  }\n",
              "\n",
              "  // All done.\n",
              "  yield {\n",
              "    response: {\n",
              "      action: 'complete',\n",
              "    }\n",
              "  };\n",
              "}\n",
              "\n",
              "scope.google = scope.google || {};\n",
              "scope.google.colab = scope.google.colab || {};\n",
              "scope.google.colab._files = {\n",
              "  _uploadFiles,\n",
              "  _uploadFilesContinue,\n",
              "};\n",
              "})(self);\n",
              "</script> "
            ]
          },
          "metadata": {}
        },
        {
          "output_type": "stream",
          "name": "stdout",
          "text": [
            "Saving kaggle.json to kaggle.json\n"
          ]
        },
        {
          "output_type": "execute_result",
          "data": {
            "text/plain": [
              "{'kaggle.json': b'{\"username\":\"sahildongre01\",\"key\":\"676f788f5ddb659e590233ff9c917e15\"}'}"
            ]
          },
          "metadata": {},
          "execution_count": 1
        }
      ],
      "source": [
        "from google.colab import files\n",
        "files.upload()"
      ]
    },
    {
      "cell_type": "code",
      "source": [
        "!mkdir -p ~/.kaggle\n",
        "!cp kaggle.json ~/.kaggle/"
      ],
      "metadata": {
        "id": "_8TuvfU4QPJs"
      },
      "execution_count": null,
      "outputs": []
    },
    {
      "cell_type": "code",
      "source": [
        "!chmod 600 ~/.kaggle/kaggle.json"
      ],
      "metadata": {
        "id": "BK1Gnuj9QPXP"
      },
      "execution_count": null,
      "outputs": []
    },
    {
      "cell_type": "code",
      "source": [
        "!kaggle datasets download -d siddharthss/crop-recommendation-dataset"
      ],
      "metadata": {
        "colab": {
          "base_uri": "https://localhost:8080/"
        },
        "id": "p7-ZJTcTQh4k",
        "outputId": "ddab60aa-b3ca-4961-98a1-758a5f52a4c8"
      },
      "execution_count": null,
      "outputs": [
        {
          "output_type": "stream",
          "name": "stdout",
          "text": [
            "Dataset URL: https://www.kaggle.com/datasets/siddharthss/crop-recommendation-dataset\n",
            "License(s): Attribution 3.0 IGO (CC BY 3.0 IGO)\n",
            "Downloading crop-recommendation-dataset.zip to /content\n",
            "  0% 0.00/63.7k [00:00<?, ?B/s]\n",
            "100% 63.7k/63.7k [00:00<00:00, 42.7MB/s]\n"
          ]
        }
      ]
    },
    {
      "cell_type": "code",
      "source": [
        "!unzip crop-recommendation-dataset.zip"
      ],
      "metadata": {
        "colab": {
          "base_uri": "https://localhost:8080/"
        },
        "id": "AgWZhTu6UkVa",
        "outputId": "1faccc0f-4027-43cd-c490-c049aff7e7a3"
      },
      "execution_count": null,
      "outputs": [
        {
          "output_type": "stream",
          "name": "stdout",
          "text": [
            "Archive:  crop-recommendation-dataset.zip\n",
            "  inflating: Crop_recommendation.csv  \n"
          ]
        }
      ]
    },
    {
      "cell_type": "code",
      "source": [],
      "metadata": {
        "id": "1lQoUQkdUvh3"
      },
      "execution_count": null,
      "outputs": []
    },
    {
      "cell_type": "markdown",
      "source": [
        "#Importing Necessary Libraries"
      ],
      "metadata": {
        "id": "vt5A9sTFVICy"
      }
    },
    {
      "cell_type": "code",
      "source": [
        "import numpy as np\n",
        "import pandas as pd\n",
        "import matplotlib.pyplot as plt\n",
        "import seaborn as sns\n",
        "\n",
        "import torch\n",
        "import torch.nn as nn\n",
        "import torch.optim as optim\n",
        "\n",
        "from sklearn.preprocessing import OneHotEncoder, LabelEncoder, MinMaxScaler\n",
        "from sklearn.compose import ColumnTransformer"
      ],
      "metadata": {
        "id": "2oDWrfzXVOMp"
      },
      "execution_count": null,
      "outputs": []
    },
    {
      "cell_type": "code",
      "source": [],
      "metadata": {
        "id": "PIQ7Pkx6WE4T"
      },
      "execution_count": null,
      "outputs": []
    },
    {
      "cell_type": "markdown",
      "source": [
        "#Reading CSV file"
      ],
      "metadata": {
        "id": "rXaO3fQOWFVf"
      }
    },
    {
      "cell_type": "code",
      "source": [
        "original_Dataset = pd.read_csv('Crop_recommendation.csv')\n",
        "print(original_Dataset)"
      ],
      "metadata": {
        "colab": {
          "base_uri": "https://localhost:8080/"
        },
        "id": "7FmtMvtUWLe5",
        "outputId": "d9330d52-00c1-4a97-c8d7-c9ebafb74660"
      },
      "execution_count": null,
      "outputs": [
        {
          "output_type": "stream",
          "name": "stdout",
          "text": [
            "        N   P   K  temperature   humidity        ph    rainfall   label\n",
            "0      90  42  43    20.879744  82.002744  6.502985  202.935536    rice\n",
            "1      85  58  41    21.770462  80.319644  7.038096  226.655537    rice\n",
            "2      60  55  44    23.004459  82.320763  7.840207  263.964248    rice\n",
            "3      74  35  40    26.491096  80.158363  6.980401  242.864034    rice\n",
            "4      78  42  42    20.130175  81.604873  7.628473  262.717340    rice\n",
            "...   ...  ..  ..          ...        ...       ...         ...     ...\n",
            "2195  107  34  32    26.774637  66.413269  6.780064  177.774507  coffee\n",
            "2196   99  15  27    27.417112  56.636362  6.086922  127.924610  coffee\n",
            "2197  118  33  30    24.131797  67.225123  6.362608  173.322839  coffee\n",
            "2198  117  32  34    26.272418  52.127394  6.758793  127.175293  coffee\n",
            "2199  104  18  30    23.603016  60.396475  6.779833  140.937041  coffee\n",
            "\n",
            "[2200 rows x 8 columns]\n"
          ]
        }
      ]
    },
    {
      "cell_type": "markdown",
      "source": [
        "> This dataset has labels listed in continous fashion. We will shuffle this dataset to make execution more robust"
      ],
      "metadata": {
        "id": "O-iJ0mELXtom"
      }
    },
    {
      "cell_type": "code",
      "source": [
        "original_Dataset_shuffled = original_Dataset.sample(frac = 1)\n",
        "print(original_Dataset_shuffled.head())"
      ],
      "metadata": {
        "colab": {
          "base_uri": "https://localhost:8080/"
        },
        "id": "8rmv3agWYQG9",
        "outputId": "f834cb6d-f6c5-4772-c7fd-d0ef00796405"
      },
      "execution_count": null,
      "outputs": [
        {
          "output_type": "stream",
          "name": "stdout",
          "text": [
            "       N    P    K  temperature   humidity        ph    rainfall        label\n",
            "1251  12  142  203    31.311598  82.564070  5.972851   65.010953       grapes\n",
            "1621   0   25   14    19.335168  91.979789  6.361671  116.450422       orange\n",
            "901    6   18   37    19.656901  89.937010  5.937650  108.045893  pomegranate\n",
            "253   29   77   75    17.503611  15.480832  7.778592   72.944667     chickpea\n",
            "1765  40   64   47    32.500375  93.478888  6.893509   71.737595       papaya\n"
          ]
        }
      ]
    },
    {
      "cell_type": "code",
      "source": [
        "X_features = original_Dataset_shuffled.iloc[:, :-1].values\n",
        "Y_label = original_Dataset_shuffled.iloc[:, -1].values\n",
        "\n",
        "print(X_features[0:1, :], X_features.shape, type(X_features))\n",
        "print(Y_label, Y_label.shape, type(Y_label))"
      ],
      "metadata": {
        "colab": {
          "base_uri": "https://localhost:8080/"
        },
        "id": "2icKF-SoWaMG",
        "outputId": "d2f7c5a4-920d-4ab4-edcf-1005f761b682"
      },
      "execution_count": null,
      "outputs": [
        {
          "output_type": "stream",
          "name": "stdout",
          "text": [
            "[[ 12.         142.         203.          31.3115978   82.56407013\n",
            "    5.97285084  65.01095312]] (2200, 7) <class 'numpy.ndarray'>\n",
            "['grapes' 'orange' 'pomegranate' ... 'blackgram' 'lentil' 'orange'] (2200,) <class 'numpy.ndarray'>\n"
          ]
        }
      ]
    },
    {
      "cell_type": "markdown",
      "source": [
        "#####As can be seen above, all the feature values in `X_features` are numbers but the labels in `Y_label` are `Strings`. Thus we will be performing label encoding on it using `LabelEncoder` class"
      ],
      "metadata": {
        "id": "iohLQSicZN7U"
      }
    },
    {
      "cell_type": "code",
      "source": [
        "label_encoder = LabelEncoder()\n",
        "\n",
        "Y_label_encoded = label_encoder.fit_transform(Y_label)\n",
        "print(Y_label_encoded, Y_label_encoded.shape, type(Y_label_encoded))"
      ],
      "metadata": {
        "colab": {
          "base_uri": "https://localhost:8080/"
        },
        "id": "k3MjRoviZ2dk",
        "outputId": "3c9273dc-8238-449f-8011-aa70e292263e"
      },
      "execution_count": null,
      "outputs": [
        {
          "output_type": "stream",
          "name": "stdout",
          "text": [
            "[ 7 16 19 ...  2 10 16] (2200,) <class 'numpy.ndarray'>\n"
          ]
        }
      ]
    },
    {
      "cell_type": "code",
      "source": [],
      "metadata": {
        "id": "PRq5hoHedHiW"
      },
      "execution_count": null,
      "outputs": []
    },
    {
      "cell_type": "markdown",
      "source": [
        "#Preprocessing Data\n",
        "\n",
        "- We will maintain two different datasets, one original and other processed dataset.\n",
        "- We will run both the datasets on Neural Network"
      ],
      "metadata": {
        "id": "u7sVHebcC0VU"
      }
    },
    {
      "cell_type": "code",
      "source": [
        "#Preprocessing Dataset\n",
        "\n",
        "col_transformer = ColumnTransformer(\n",
        "    transformers=[\n",
        "        ('zero_one', MinMaxScaler(feature_range=(0, 1)), [0, 1, 2, 3, 4, 6])\n",
        "    ],\n",
        "    remainder='passthrough'\n",
        ")\n",
        "\n",
        "X_features_transformed_all = col_transformer.fit_transform(X_features)\n",
        "\n",
        "print(X_features_transformed_all[0:1, :], X_features_transformed_all.shape, type(X_features_transformed_all))"
      ],
      "metadata": {
        "colab": {
          "base_uri": "https://localhost:8080/"
        },
        "id": "qGyc7RtSCzy6",
        "outputId": "44d664d7-eeeb-48d4-9ac5-de890c02f2c2"
      },
      "execution_count": null,
      "outputs": [
        {
          "output_type": "stream",
          "name": "stdout",
          "text": [
            "[[0.08571429 0.97857143 0.99       0.64522354 0.7968149  0.16094798\n",
            "  5.97285084]] (2200, 7) <class 'numpy.ndarray'>\n"
          ]
        }
      ]
    },
    {
      "cell_type": "markdown",
      "source": [
        "#Split Dataset Into Train and Test Data"
      ],
      "metadata": {
        "id": "6aAXVU4NpRQp"
      }
    },
    {
      "cell_type": "code",
      "source": [
        "# Import necessary libraries\n",
        "from sklearn.model_selection import train_test_split\n",
        "\n",
        "# Split the data into training and testing sets\n",
        "X_train, X_test, Y_train, Y_test = train_test_split(\n",
        "    X_features_transformed_all,\n",
        "    Y_label_encoded,\n",
        "    test_size=0.2,\n",
        "    random_state=42,\n",
        "    stratify=Y_label_encoded\n",
        ")\n",
        "\n",
        "print(X_train[0:1, :], X_train.shape, type(X_train), '\\n')\n",
        "print(X_test[0:1, :], X_test.shape, type(X_test), '\\n')\n",
        "print(Y_train[0:10], Y_train.shape, type(Y_train), '\\n')\n",
        "print(Y_test[0:10], Y_test.shape, type(Y_test))"
      ],
      "metadata": {
        "colab": {
          "base_uri": "https://localhost:8080/"
        },
        "id": "xQjeScKmqVi3",
        "outputId": "36f60206-0022-40f5-91f0-fa47e2cb6c58"
      },
      "execution_count": null,
      "outputs": [
        {
          "output_type": "stream",
          "name": "stdout",
          "text": [
            "[[0.06428571 0.02142857 0.05       0.15832307 0.93438781 0.32337495\n",
            "  7.99446537]] (1760, 7) <class 'numpy.ndarray'> \n",
            "\n",
            "[[0.27857143 0.16428571 0.025      0.64630256 0.90085138 0.31954044\n",
            "  7.18190767]] (440, 7) <class 'numpy.ndarray'> \n",
            "\n",
            "[16  7  9 13 16  6  1 16  7 10] (1760,) <class 'numpy.ndarray'> \n",
            "\n",
            "[16  1  6 11 16  3 20  2  1 16] (440,) <class 'numpy.ndarray'>\n"
          ]
        }
      ]
    },
    {
      "cell_type": "markdown",
      "source": [
        "#Converting Dataset To Tensor"
      ],
      "metadata": {
        "id": "yAXZH3y_FaQA"
      }
    },
    {
      "cell_type": "code",
      "source": [
        "X_train_tensor = torch.from_numpy(X_train.astype(np.float32))\n",
        "X_test_tensor = torch.from_numpy(X_test.astype(np.float32))\n",
        "\n",
        "Y_train_tensor = torch.from_numpy(Y_train.astype(np.float32)).reshape(-1, 1)\n",
        "Y_test_tensor = torch.from_numpy(Y_test.astype(np.float32)).reshape(-1, 1)\n",
        "\n",
        "print(X_train_tensor[0:1, :], X_train_tensor.shape, type(X_train_tensor), '\\n')\n",
        "print(X_test_tensor[0:1, :], X_test_tensor.shape, type(X_test_tensor), '\\n')\n",
        "\n",
        "print(Y_train_tensor[0:10], Y_train_tensor.shape, type(Y_train_tensor), '\\n')\n",
        "print(Y_test_tensor[0:10], Y_test_tensor.shape, type(Y_test_tensor), '\\n')"
      ],
      "metadata": {
        "colab": {
          "base_uri": "https://localhost:8080/"
        },
        "id": "FPcn6LkJEv3x",
        "outputId": "ca7f2960-6fb9-4126-ea76-7f3b7558978a"
      },
      "execution_count": null,
      "outputs": [
        {
          "output_type": "stream",
          "name": "stdout",
          "text": [
            "tensor([[0.0643, 0.0214, 0.0500, 0.1583, 0.9344, 0.3234, 7.9945]]) torch.Size([1760, 7]) <class 'torch.Tensor'> \n",
            "\n",
            "tensor([[0.2786, 0.1643, 0.0250, 0.6463, 0.9009, 0.3195, 7.1819]]) torch.Size([440, 7]) <class 'torch.Tensor'> \n",
            "\n",
            "tensor([[16.],\n",
            "        [ 7.],\n",
            "        [ 9.],\n",
            "        [13.],\n",
            "        [16.],\n",
            "        [ 6.],\n",
            "        [ 1.],\n",
            "        [16.],\n",
            "        [ 7.],\n",
            "        [10.]]) torch.Size([1760, 1]) <class 'torch.Tensor'> \n",
            "\n",
            "tensor([[16.],\n",
            "        [ 1.],\n",
            "        [ 6.],\n",
            "        [11.],\n",
            "        [16.],\n",
            "        [ 3.],\n",
            "        [20.],\n",
            "        [ 2.],\n",
            "        [ 1.],\n",
            "        [16.]]) torch.Size([440, 1]) <class 'torch.Tensor'> \n",
            "\n"
          ]
        }
      ]
    },
    {
      "cell_type": "markdown",
      "source": [
        "#Defining Neural Network"
      ],
      "metadata": {
        "id": "50myZ8mWdJb2"
      }
    },
    {
      "cell_type": "markdown",
      "source": [
        "###This network uses Linear Regression"
      ],
      "metadata": {
        "id": "07s9bXejI2MN"
      }
    },
    {
      "cell_type": "code",
      "source": [
        "class crop_prediction(nn.Module):\n",
        "  def __init__(self):\n",
        "    super(crop_prediction, self).__init__()\n",
        "    self.linear1 = nn.Linear(7, 28)\n",
        "    self.linear2 = nn.Linear(28, 12)\n",
        "    self.linear3 = nn.Linear(12, 1)\n",
        "\n",
        "  def forward(self, x):\n",
        "    x = torch.relu(self.linear1(x))\n",
        "    x = torch.relu(self.linear2(x))\n",
        "    x = self.linear3(x)\n",
        "    return x"
      ],
      "metadata": {
        "id": "scm4yPSQdIjk"
      },
      "execution_count": null,
      "outputs": []
    },
    {
      "cell_type": "code",
      "source": [
        "crop_pred_1 = crop_prediction()\n",
        "crop_pred_1"
      ],
      "metadata": {
        "colab": {
          "base_uri": "https://localhost:8080/"
        },
        "id": "u2ilSRAHeGuU",
        "outputId": "2d2ea464-00ad-4322-d1e4-85d277cce4c7"
      },
      "execution_count": null,
      "outputs": [
        {
          "output_type": "execute_result",
          "data": {
            "text/plain": [
              "crop_prediction(\n",
              "  (linear1): Linear(in_features=7, out_features=28, bias=True)\n",
              "  (linear2): Linear(in_features=28, out_features=12, bias=True)\n",
              "  (linear3): Linear(in_features=12, out_features=1, bias=True)\n",
              ")"
            ]
          },
          "metadata": {},
          "execution_count": 15
        }
      ]
    },
    {
      "cell_type": "code",
      "source": [
        "criterion = nn.MSELoss()\n",
        "optimizer = optim.Adam(crop_pred_1.parameters(), lr=0.001)"
      ],
      "metadata": {
        "id": "cl9VJsnMeV4B"
      },
      "execution_count": null,
      "outputs": []
    },
    {
      "cell_type": "markdown",
      "source": [
        "#Running On Train Data"
      ],
      "metadata": {
        "id": "jdnxNq0_zPJe"
      }
    },
    {
      "cell_type": "code",
      "source": [
        "num_epoch = 1000\n",
        "losses = []\n",
        "output = []\n",
        "\n",
        "for epoch in range(num_epoch):\n",
        "  output = crop_pred_1(X_train_tensor)\n",
        "  loss = criterion(output, Y_train_tensor)\n",
        "  optimizer.zero_grad()\n",
        "  loss.backward()\n",
        "  optimizer.step()\n",
        "\n",
        "  losses.append(loss.item())\n",
        "\n",
        "  if epoch % 100 == 0:\n",
        "    print(f'Epoch: {epoch} \\tLoss: {loss.item():.8f}')\n",
        "\n",
        "\n",
        "plt.plot(losses)\n",
        "plt.xlabel('Epoch')\n",
        "plt.ylabel('Loss')\n",
        "plt.title('Epoch vs Loss')\n",
        "plt.show()\n",
        "\n",
        "\n",
        "print('\\n')\n",
        "print(output, output.shape, type(output))"
      ],
      "metadata": {
        "id": "8yw41HMpe0o8",
        "colab": {
          "base_uri": "https://localhost:8080/",
          "height": 802
        },
        "outputId": "213d9cdc-1853-40f7-b123-8975da4acf83"
      },
      "execution_count": null,
      "outputs": [
        {
          "output_type": "stream",
          "name": "stdout",
          "text": [
            "Epoch: 0 \tLoss: 152.89692688\n",
            "Epoch: 100 \tLoss: 88.16632080\n",
            "Epoch: 200 \tLoss: 42.16414642\n",
            "Epoch: 300 \tLoss: 40.53092575\n",
            "Epoch: 400 \tLoss: 38.21866226\n",
            "Epoch: 500 \tLoss: 35.41046143\n",
            "Epoch: 600 \tLoss: 32.59484863\n",
            "Epoch: 700 \tLoss: 30.42412186\n",
            "Epoch: 800 \tLoss: 29.05228424\n",
            "Epoch: 900 \tLoss: 28.15812111\n"
          ]
        },
        {
          "output_type": "display_data",
          "data": {
            "text/plain": [
              "<Figure size 640x480 with 1 Axes>"
            ],
            "image/png": "[encoded data removed]"
          },
          "metadata": {}
        },
        {
          "output_type": "stream",
          "name": "stdout",
          "text": [
            "\n",
            "\n",
            "tensor([[16.6978],\n",
            "        [ 2.1188],\n",
            "        [ 6.8054],\n",
            "        ...,\n",
            "        [11.1447],\n",
            "        [11.5319],\n",
            "        [ 2.5507]], grad_fn=<AddmmBackward0>) torch.Size([1760, 1]) <class 'torch.Tensor'>\n"
          ]
        }
      ]
    },
    {
      "cell_type": "markdown",
      "source": [
        "#Running On Test Data"
      ],
      "metadata": {
        "id": "OukQ2cwlzTdF"
      }
    },
    {
      "cell_type": "code",
      "source": [
        "num_epochs = 1000\n",
        "losses = []\n",
        "\n",
        "for epoch in range(num_epochs):\n",
        "    outputs = crop_pred_1(X_test_tensor)\n",
        "\n",
        "    loss = criterion(outputs, Y_test_tensor)\n",
        "\n",
        "    optimizer.zero_grad()\n",
        "    loss.backward()\n",
        "    optimizer.step()\n",
        "\n",
        "    losses.append(loss.item())\n",
        "    if epoch % 100 == 0:\n",
        "      print(f'Epoch {epoch}, Loss: {loss.item():.8f}')\n",
        "\n",
        "plt.plot(losses)\n",
        "plt.xlabel('Epoch')\n",
        "plt.ylabel('Loss')\n",
        "plt.title('Epoch vs Loss')\n",
        "plt.show()"
      ],
      "metadata": {
        "colab": {
          "base_uri": "https://localhost:8080/",
          "height": 646
        },
        "id": "QGKtDumScqKa",
        "outputId": "e7f24cbf-0734-4055-fe75-b4b20cb50deb"
      },
      "execution_count": null,
      "outputs": [
        {
          "output_type": "stream",
          "name": "stdout",
          "text": [
            "Epoch 0, Loss: 27.28532982\n",
            "Epoch 100, Loss: 26.66865730\n",
            "Epoch 200, Loss: 26.10648155\n",
            "Epoch 300, Loss: 25.54785538\n",
            "Epoch 400, Loss: 25.00152779\n",
            "Epoch 500, Loss: 24.44857597\n",
            "Epoch 600, Loss: 23.86322212\n",
            "Epoch 700, Loss: 23.27748108\n",
            "Epoch 800, Loss: 22.11874962\n",
            "Epoch 900, Loss: 21.20860291\n"
          ]
        },
        {
          "output_type": "display_data",
          "data": {
            "text/plain": [
              "<Figure size 640x480 with 1 Axes>"
            ],
            "image/png": "[encoded data removed]"
          },
          "metadata": {}
        }
      ]
    },
    {
      "cell_type": "code",
      "source": [
        "# crop_pred_1.eval()\n",
        "# with torch.no_grad():\n",
        "#     outputs = crop_pred_1(X_features_transformed_all_tensor)\n",
        "#     loss = criterion(outputs, Y_label_encoded_tensor)\n",
        "#     print(f'Test Loss: {loss.item()}')\n"
      ],
      "metadata": {
        "id": "WVKs2hFkJBWy"
      },
      "execution_count": null,
      "outputs": []
    },
    {
      "cell_type": "markdown",
      "source": [
        "#------------------------- Neural Network Implementing Classification Task ---------------------------"
      ],
      "metadata": {
        "id": "53xRbmigJBfO"
      }
    },
    {
      "cell_type": "markdown",
      "source": [
        "> RuntimeError: 0D or 1D target tensor expected, multi-target not supported\n",
        "\n",
        "> Because of above error, modification of Y_label is required"
      ],
      "metadata": {
        "id": "JhMBtKlQTHC1"
      }
    },
    {
      "cell_type": "code",
      "source": [
        "Y_train_squeezed = Y_train_tensor.squeeze()\n",
        "print(Y_train_squeezed[0:10], Y_train_squeezed.shape, type(Y_train_squeezed), '\\n')\n",
        "\n",
        "Y_test_squeezed = Y_test_tensor.squeeze()\n",
        "print(Y_test_squeezed[0:10], Y_test_squeezed.shape, type(Y_test_squeezed))"
      ],
      "metadata": {
        "colab": {
          "base_uri": "https://localhost:8080/"
        },
        "id": "x4HAqD4GTSnU",
        "outputId": "502418d6-43c7-412b-8178-454e7f8dbadb"
      },
      "execution_count": null,
      "outputs": [
        {
          "output_type": "stream",
          "name": "stdout",
          "text": [
            "tensor([16.,  7.,  9., 13., 16.,  6.,  1., 16.,  7., 10.]) torch.Size([1760]) <class 'torch.Tensor'> \n",
            "\n",
            "tensor([16.,  1.,  6., 11., 16.,  3., 20.,  2.,  1., 16.]) torch.Size([440]) <class 'torch.Tensor'>\n"
          ]
        }
      ]
    },
    {
      "cell_type": "markdown",
      "source": [
        "> **Error:** RuntimeError: expected scalar type Long but found Float\n",
        "\n",
        "**Solution:**\n",
        "LongTensor is synonymous with integer.\n",
        "PyTorch won't accept a FloatTensor as categorical target, so you need to cast your tensor to LongTensor."
      ],
      "metadata": {
        "id": "o3Sx9A9vUhof"
      }
    },
    {
      "cell_type": "code",
      "source": [
        "#LongTensor is synonymous with integer.\n",
        "#PyTorch won't accept a FloatTensor as categorical target, so you need to cast your tensor to LongTensor.\n",
        "#This is how you should change your target dtype:\n",
        "\n",
        "Y_train_squeezed = Y_train_squeezed.type(torch.LongTensor)\n",
        "Y_test_squeezed = Y_test_squeezed.type(torch.LongTensor)"
      ],
      "metadata": {
        "id": "Z_DDbbe8UR4b"
      },
      "execution_count": null,
      "outputs": []
    },
    {
      "cell_type": "code",
      "source": [
        "from sklearn.preprocessing import StandardScaler"
      ],
      "metadata": {
        "id": "I8zjLIZ9yFGb"
      },
      "execution_count": null,
      "outputs": []
    },
    {
      "cell_type": "code",
      "source": [
        "scaler = StandardScaler()\n",
        "X_train_transformed = scaler.fit_transform(X_train)\n",
        "X_test_transformed = scaler.transform(X_test)\n",
        "\n",
        "print(X_train_transformed[0:1, :], X_train_transformed.shape, '\\n')\n",
        "print(X_test_transformed[0:1, :], X_test_transformed.shape)"
      ],
      "metadata": {
        "colab": {
          "base_uri": "https://localhost:8080/"
        },
        "id": "BvfEWQK9yOj0",
        "outputId": "121f88c6-1c31-4cdb-dba7-e9de407a6e2d"
      },
      "execution_count": null,
      "outputs": [
        {
          "output_type": "stream",
          "name": "stdout",
          "text": [
            "[[-1.13250477 -1.38005203 -0.65552556 -2.22258918  1.0260618   0.12208362\n",
            "   1.97667764]] (1760, 7) \n",
            "\n",
            "[[-0.28645372 -0.75740747 -0.74993581  1.13881305  0.90459738  0.10727709\n",
            "   0.87761808]] (440, 7)\n"
          ]
        }
      ]
    },
    {
      "cell_type": "code",
      "source": [
        "X_train_tensor_features = torch.tensor(X_train_transformed, dtype=torch.float32)\n",
        "print(X_train_tensor_features, X_train_tensor_features.shape, '\\n')\n",
        "\n",
        "X_test_tensor_features = torch.tensor(X_test_transformed, dtype=torch.float32)\n",
        "print(X_test_tensor_features, X_test_tensor_features.shape)"
      ],
      "metadata": {
        "colab": {
          "base_uri": "https://localhost:8080/"
        },
        "id": "X4zdNwdEyqia",
        "outputId": "386866e7-d1bc-476f-8b07-57a3490b2756"
      },
      "execution_count": null,
      "outputs": [
        {
          "output_type": "stream",
          "name": "stdout",
          "text": [
            "tensor([[-1.1325, -1.3801, -0.6555,  ...,  1.0261,  0.1221,  1.9767],\n",
            "        [-0.9428,  2.6024,  3.0568,  ...,  0.4249, -0.6856, -0.2335],\n",
            "        [-0.5906,  0.4440, -0.4976,  ..., -2.3430,  0.2406, -0.8098],\n",
            "        ...,\n",
            "        [ 0.7913, -0.3160, -0.1026,  ...,  0.1291,  1.2583, -0.5691],\n",
            "        [ 1.0080, -0.1032, -0.1619,  ...,  0.3796,  1.4333,  0.7646],\n",
            "        [-1.2138,  2.6328,  3.0963,  ...,  0.5132, -0.6125, -0.1853]]) torch.Size([1760, 7]) \n",
            "\n",
            "tensor([[-0.2865, -0.7574, -0.7499,  ...,  0.9046,  0.1073,  0.8776],\n",
            "        [ 1.0956,  0.9836,  0.0799,  ...,  0.4746,  0.2879, -0.9597],\n",
            "        [ 1.9628, -0.3972, -0.6116,  ...,  0.4457, -0.4223,  0.4445],\n",
            "        ...,\n",
            "        [ 1.0956, -0.0970, -0.0782,  ...,  0.0923,  1.2409, -0.3509],\n",
            "        [-0.3136,  2.6346,  2.9645,  ...,  0.3991, -0.5912, -1.0077],\n",
            "        [-0.3136,  0.5634, -0.5326,  ..., -0.9930,  1.5143, -0.8157]]) torch.Size([440, 7])\n"
          ]
        }
      ]
    },
    {
      "cell_type": "code",
      "source": [
        "import torch\n",
        "import torch.nn as nn\n",
        "\n",
        "class CropPrediction(nn.Module):\n",
        "    def __init__(self):\n",
        "        super(CropPrediction, self).__init__()\n",
        "        # Define the layers\n",
        "        self.linear1 = nn.Linear(7, 25)\n",
        "        self.linear2 = nn.Linear(25, 15)\n",
        "        self.linear3 = nn.Linear(15, 22)\n",
        "\n",
        "    def forward(self, x):\n",
        "        # Define the forward pass\n",
        "        x = torch.relu(self.linear1(x))\n",
        "        x = torch.relu(self.linear2(x))\n",
        "        x = self.linear3(x)\n",
        "        return x\n"
      ],
      "metadata": {
        "id": "EtRlDjS0x2Hm"
      },
      "execution_count": null,
      "outputs": []
    },
    {
      "cell_type": "code",
      "source": [
        "crop_pred = CropPrediction()\n",
        "crop_pred"
      ],
      "metadata": {
        "colab": {
          "base_uri": "https://localhost:8080/"
        },
        "id": "6Qg_28_py8tk",
        "outputId": "aaf225c3-57fc-4d6c-84d4-32b1e0f4b738"
      },
      "execution_count": null,
      "outputs": [
        {
          "output_type": "execute_result",
          "data": {
            "text/plain": [
              "CropPrediction(\n",
              "  (linear1): Linear(in_features=7, out_features=25, bias=True)\n",
              "  (linear2): Linear(in_features=25, out_features=15, bias=True)\n",
              "  (linear3): Linear(in_features=15, out_features=22, bias=True)\n",
              ")"
            ]
          },
          "metadata": {},
          "execution_count": 25
        }
      ]
    },
    {
      "cell_type": "code",
      "source": [
        "criterion_1 = nn.CrossEntropyLoss()\n",
        "optimizer_1 = optim.Adam(crop_pred.parameters(), lr=0.001)"
      ],
      "metadata": {
        "id": "9d55dWgHyyP9"
      },
      "execution_count": null,
      "outputs": []
    },
    {
      "cell_type": "code",
      "source": [
        "epochs = 1000\n",
        "losses_1 = []\n",
        "output_1 = []\n",
        "\n",
        "for i in range(epochs):\n",
        "  output_1 = crop_pred(X_train_tensor_features)\n",
        "  loss_1 = criterion_1(output_1, Y_train_squeezed)\n",
        "  optimizer_1.zero_grad()\n",
        "  loss_1.backward()\n",
        "  optimizer_1.step()\n",
        "\n",
        "  losses_1 = np.append(losses_1, loss_1.detach().item())\n",
        "\n",
        "  if i % 100 == 0:\n",
        "    print(f\"Epoch: {i} \\tLoss: {loss_1.item():.8f}\")\n",
        "\n",
        "plt.plot(losses_1)\n",
        "plt.xlabel('Epoch')\n",
        "plt.ylabel('Loss')\n",
        "plt.title('Epoch vs Loss')\n",
        "plt.show()\n",
        "\n",
        "\n",
        "print(output_1, output_1.shape)\n",
        "print()\n",
        "print(Y_train_squeezed, Y_train_squeezed.shape)"
      ],
      "metadata": {
        "colab": {
          "base_uri": "https://localhost:8080/",
          "height": 819
        },
        "id": "OnG8Pqdi4kkv",
        "outputId": "fdcb3a58-6c61-43f3-e6d3-eae1d1fd2843"
      },
      "execution_count": null,
      "outputs": [
        {
          "output_type": "stream",
          "name": "stdout",
          "text": [
            "Epoch: 0 \tLoss: 3.08996892\n",
            "Epoch: 100 \tLoss: 2.28849602\n",
            "Epoch: 200 \tLoss: 1.07441115\n",
            "Epoch: 300 \tLoss: 0.48880106\n",
            "Epoch: 400 \tLoss: 0.25458947\n",
            "Epoch: 500 \tLoss: 0.15786317\n",
            "Epoch: 600 \tLoss: 0.11185311\n",
            "Epoch: 700 \tLoss: 0.08609099\n",
            "Epoch: 800 \tLoss: 0.06954189\n",
            "Epoch: 900 \tLoss: 0.05787331\n"
          ]
        },
        {
          "output_type": "display_data",
          "data": {
            "text/plain": [
              "<Figure size 640x480 with 1 Axes>"
            ],
            "image/png": "[encoded data removed]"
          },
          "metadata": {}
        },
        {
          "output_type": "stream",
          "name": "stdout",
          "text": [
            "tensor([[-12.9580, -22.6100,  -9.8993,  ...,   6.4704,  -6.0489,   2.7519],\n",
            "        [  8.9513,  -5.6320,   0.7065,  ...,   4.6813,  -8.2167, -10.4955],\n",
            "        [-10.2907,  -8.2289,   0.9839,  ..., -10.3950,  -0.0693, -11.7163],\n",
            "        ...,\n",
            "        [ -7.6702,  -2.7961,  -0.4247,  ...,  -7.8592,   7.6351,  -4.7865],\n",
            "        [ -6.7921,  -0.4492,   2.2053,  ...,  -9.6794,   7.1757,  -4.6163],\n",
            "        [  9.6839,  -6.3206,   0.2329,  ...,   5.2126,  -8.2540, -11.2945]],\n",
            "       grad_fn=<AddmmBackward0>) torch.Size([1760, 22])\n",
            "\n",
            "tensor([16,  7,  9,  ...,  8,  8,  7]) torch.Size([1760])\n"
          ]
        }
      ]
    },
    {
      "cell_type": "code",
      "source": [
        "predicted_class = torch.argmax(output_1, dim=1)\n",
        "\n",
        "# Print the predicted class and actual class for comparison\n",
        "print(\"Predicted class:\", predicted_class[1200])\n",
        "print(\"Actual class:\", Y_train_squeezed[1200])"
      ],
      "metadata": {
        "colab": {
          "base_uri": "https://localhost:8080/"
        },
        "id": "DNs3IiHp2y9s",
        "outputId": "cdaa5092-8a2f-42b5-a250-2bbafc8bb860"
      },
      "execution_count": null,
      "outputs": [
        {
          "output_type": "stream",
          "name": "stdout",
          "text": [
            "Predicted class: tensor(5)\n",
            "Actual class: tensor(5)\n"
          ]
        }
      ]
    },
    {
      "cell_type": "code",
      "source": [
        "epochs = 1000\n",
        "losses_2 = []\n",
        "output_2 = []\n",
        "\n",
        "for i in range(epochs):\n",
        "  output_2 = crop_pred(X_test_tensor_features)\n",
        "  loss_2 = criterion_1(output_2, Y_test_squeezed)\n",
        "  optimizer_1.zero_grad()\n",
        "  loss_2.backward()\n",
        "  optimizer_1.step()\n",
        "\n",
        "  losses_2 = np.append(losses_2, loss_2.detach().item())\n",
        "\n",
        "  if i % 100 == 0:\n",
        "    print(f\"Epoch: {i} \\tLoss: {loss_2.item():.8f}\")\n",
        "\n",
        "plt.plot(losses_2)\n",
        "plt.xlabel('Epoch')\n",
        "plt.ylabel('Loss')\n",
        "plt.title('Epoch vs Loss')\n",
        "plt.show()\n",
        "\n",
        "\n",
        "print(output_2, output_2.shape)\n",
        "print()\n",
        "print(Y_test_squeezed[0:10], Y_test_squeezed.shape)"
      ],
      "metadata": {
        "colab": {
          "base_uri": "https://localhost:8080/",
          "height": 819
        },
        "id": "DuJ2KMIPtbAy",
        "outputId": "786c3d9b-219f-4398-997a-c83c6c6a8a00"
      },
      "execution_count": null,
      "outputs": [
        {
          "output_type": "stream",
          "name": "stdout",
          "text": [
            "Epoch: 0 \tLoss: 0.09035023\n",
            "Epoch: 100 \tLoss: 0.04914433\n",
            "Epoch: 200 \tLoss: 0.03662523\n",
            "Epoch: 300 \tLoss: 0.02804810\n",
            "Epoch: 400 \tLoss: 0.02237118\n",
            "Epoch: 500 \tLoss: 0.01799068\n",
            "Epoch: 600 \tLoss: 0.01458587\n",
            "Epoch: 700 \tLoss: 0.01174735\n",
            "Epoch: 800 \tLoss: 0.00959047\n",
            "Epoch: 900 \tLoss: 0.00792723\n"
          ]
        },
        {
          "output_type": "display_data",
          "data": {
            "text/plain": [
              "<Figure size 640x480 with 1 Axes>"
            ],
            "image/png": "[encoded data removed]"
          },
          "metadata": {}
        },
        {
          "output_type": "stream",
          "name": "stdout",
          "text": [
            "tensor([[ -6.6989, -10.5914,   1.0388,  ...,  -0.2646,  -8.5234, -11.2601],\n",
            "        [ -0.5149,  16.8916,   6.4396,  ...,  -4.6313,  -8.2015,  -1.5253],\n",
            "        [-19.6477,   1.9077,  -2.3458,  ...,  -5.4851,  -2.4658,  10.6177],\n",
            "        ...,\n",
            "        [-10.0670,   3.0925,   1.8638,  ...,  -9.4452,   8.1838,  -4.4318],\n",
            "        [  7.9192,  -0.7089,   3.8690,  ...,   4.8513, -24.3398,  -6.9498],\n",
            "        [ -9.0466,   3.1527,  13.0100,  ..., -17.3764,   1.1383, -16.9542]],\n",
            "       grad_fn=<AddmmBackward0>) torch.Size([440, 22])\n",
            "\n",
            "tensor([16,  1,  6, 11, 16,  3, 20,  2,  1, 16]) torch.Size([440])\n"
          ]
        }
      ]
    },
    {
      "cell_type": "code",
      "source": [
        "predicted_class_test = torch.argmax(output_2, dim=1)\n",
        "\n",
        "# Print the predicted class and actual class for comparison\n",
        "print(\"Predicted class:\", predicted_class_test[300])\n",
        "print(\"Actual class:\", Y_test_squeezed[300])"
      ],
      "metadata": {
        "colab": {
          "base_uri": "https://localhost:8080/"
        },
        "id": "RQegYp_vtoNt",
        "outputId": "9406778d-a3f7-4d88-806e-7e6bbec4ae8b"
      },
      "execution_count": null,
      "outputs": [
        {
          "output_type": "stream",
          "name": "stdout",
          "text": [
            "Predicted class: tensor(10)\n",
            "Actual class: tensor(10)\n"
          ]
        }
      ]
    },
    {
      "cell_type": "markdown",
      "source": [
        "#Classification Using Softmax"
      ],
      "metadata": {
        "id": "Jfps3-M1z4vG"
      }
    },
    {
      "cell_type": "code",
      "source": [
        "import torch\n",
        "import torch.nn as nn\n",
        "\n",
        "class CropPrediction_softmax(nn.Module):\n",
        "    def __init__(self):\n",
        "        super(CropPrediction_softmax, self).__init__()\n",
        "        # Define the layers\n",
        "        self.linear1 = nn.Linear(7, 25)\n",
        "        self.linear2 = nn.Linear(25, 15)\n",
        "        self.linear3 = nn.Linear(15, 22)\n",
        "\n",
        "    def forward(self, x):\n",
        "        # Define the forward pass\n",
        "        x = torch.relu(self.linear1(x))\n",
        "        x = torch.relu(self.linear2(x))\n",
        "        x = self.linear3(x)\n",
        "\n",
        "        # Apply softmax to the output of the final linear layer\n",
        "        x = torch.softmax(x, dim=1)\n",
        "\n",
        "        return x\n"
      ],
      "metadata": {
        "id": "00qDF2V5z9RB"
      },
      "execution_count": null,
      "outputs": []
    },
    {
      "cell_type": "code",
      "source": [
        "softmax_pred = CropPrediction_softmax()\n",
        "softmax_pred"
      ],
      "metadata": {
        "colab": {
          "base_uri": "https://localhost:8080/"
        },
        "id": "GWqUUgFz0Ak7",
        "outputId": "c4bf352f-8313-465a-d862-2e5ad9fdc74e"
      },
      "execution_count": null,
      "outputs": [
        {
          "output_type": "execute_result",
          "data": {
            "text/plain": [
              "CropPrediction_softmax(\n",
              "  (linear1): Linear(in_features=7, out_features=25, bias=True)\n",
              "  (linear2): Linear(in_features=25, out_features=15, bias=True)\n",
              "  (linear3): Linear(in_features=15, out_features=22, bias=True)\n",
              ")"
            ]
          },
          "metadata": {},
          "execution_count": 32
        }
      ]
    },
    {
      "cell_type": "code",
      "source": [
        "criterion_new = nn.CrossEntropyLoss()\n",
        "optimizer_new = optim.Adam(crop_pred.parameters(), lr=0.001)"
      ],
      "metadata": {
        "id": "9s3zn8IJ0s6C"
      },
      "execution_count": null,
      "outputs": []
    },
    {
      "cell_type": "code",
      "source": [
        "epochs = 1000\n",
        "losses_3 = []\n",
        "output_3 = []\n",
        "\n",
        "for i in range(epochs):\n",
        "  output_3 = softmax_pred(X_train_tensor_features)\n",
        "  loss_3 = criterion_new(output_3, Y_train_squeezed)\n",
        "  optimizer_new.zero_grad()\n",
        "  loss_3.backward()\n",
        "  optimizer_new.step()\n",
        "\n",
        "  losses_3 = np.append(losses_3, loss_3.detach().item())\n",
        "\n",
        "  if i % 100 == 0:\n",
        "    print(f\"Epoch: {i} \\tLoss: {loss_3.item():.8f}\")\n",
        "\n",
        "plt.plot(losses_3)\n",
        "plt.xlabel('Epoch')\n",
        "plt.ylabel('Loss')\n",
        "plt.title('Epoch vs Loss')\n",
        "plt.show()\n",
        "\n",
        "\n",
        "print(output_3, output_3.shape)\n",
        "print()\n",
        "print(Y_train_squeezed[0:10], Y_train_squeezed.shape)"
      ],
      "metadata": {
        "colab": {
          "base_uri": "https://localhost:8080/",
          "height": 819
        },
        "id": "CeEId9pR3fP4",
        "outputId": "278bb095-6493-4b05-92a7-d5792390dfa7"
      },
      "execution_count": null,
      "outputs": [
        {
          "output_type": "stream",
          "name": "stdout",
          "text": [
            "Epoch: 0 \tLoss: 3.09084344\n",
            "Epoch: 100 \tLoss: 3.09084344\n",
            "Epoch: 200 \tLoss: 3.09084344\n",
            "Epoch: 300 \tLoss: 3.09084344\n",
            "Epoch: 400 \tLoss: 3.09084344\n",
            "Epoch: 500 \tLoss: 3.09084344\n",
            "Epoch: 600 \tLoss: 3.09084344\n",
            "Epoch: 700 \tLoss: 3.09084344\n",
            "Epoch: 800 \tLoss: 3.09084344\n",
            "Epoch: 900 \tLoss: 3.09084344\n"
          ]
        },
        {
          "output_type": "display_data",
          "data": {
            "text/plain": [
              "<Figure size 640x480 with 1 Axes>"
            ],
            "image/png": "[encoded data removed]"
          },
          "metadata": {}
        },
        {
          "output_type": "stream",
          "name": "stdout",
          "text": [
            "tensor([[0.0397, 0.0282, 0.0490,  ..., 0.0441, 0.0371, 0.0308],\n",
            "        [0.0360, 0.0211, 0.0430,  ..., 0.0519, 0.0316, 0.0266],\n",
            "        [0.0338, 0.0272, 0.0479,  ..., 0.0484, 0.0305, 0.0333],\n",
            "        ...,\n",
            "        [0.0356, 0.0320, 0.0508,  ..., 0.0519, 0.0339, 0.0372],\n",
            "        [0.0359, 0.0337, 0.0500,  ..., 0.0500, 0.0345, 0.0372],\n",
            "        [0.0358, 0.0207, 0.0431,  ..., 0.0517, 0.0318, 0.0265]],\n",
            "       grad_fn=<SoftmaxBackward0>) torch.Size([1760, 22])\n",
            "\n",
            "tensor([16,  7,  9, 13, 16,  6,  1, 16,  7, 10]) torch.Size([1760])\n"
          ]
        }
      ]
    },
    {
      "cell_type": "code",
      "source": [
        "predicted_class_train = torch.argmax(output_3, dim=1)\n",
        "\n",
        "# Print the predicted class and actual class for comparison\n",
        "print(\"Predicted class:\", predicted_class_train[1200])\n",
        "print(\"Actual class:\", Y_train_squeezed[1200])"
      ],
      "metadata": {
        "colab": {
          "base_uri": "https://localhost:8080/"
        },
        "id": "Bi6jzLmp36ul",
        "outputId": "0c306c41-e4d9-47e3-c34b-10f458b6d8ff"
      },
      "execution_count": null,
      "outputs": [
        {
          "output_type": "stream",
          "name": "stdout",
          "text": [
            "Predicted class: tensor(7)\n",
            "Actual class: tensor(5)\n"
          ]
        }
      ]
    },
    {
      "cell_type": "code",
      "source": [
        "# for i in range(epochs):\n",
        "#     output_3 = softmax_pred(X_train_tensor_features)\n",
        "#     loss_3 = criterion_new(output_3, Y_train_squeezed)\n",
        "#     optimizer_new.zero_grad()\n",
        "#     loss_3.backward()\n",
        "\n",
        "#     # Debugging: Check gradients of the first layer\n",
        "#     print(f\"Epoch {i}: Gradient of linear1: {softmax_pred.linear1.weight.grad}\")\n",
        "\n",
        "#     optimizer_new.step()\n",
        "\n",
        "#     losses_3 = np.append(losses_3, loss_3.detach().item())\n",
        "\n",
        "#     if i % 100 == 0:\n",
        "#         print(f\"Epoch: {i} \\tLoss: {loss_3.item():.8f}\")\n"
      ],
      "metadata": {
        "id": "BsekThTZ5NHg"
      },
      "execution_count": null,
      "outputs": []
    },
    {
      "cell_type": "markdown",
      "source": [
        "#Decision Tree"
      ],
      "metadata": {
        "id": "eejYzM8d6_Pd"
      }
    },
    {
      "cell_type": "code",
      "source": [
        "from sklearn.tree import DecisionTreeClassifier"
      ],
      "metadata": {
        "id": "9v4-AGe77BPk"
      },
      "execution_count": null,
      "outputs": []
    },
    {
      "cell_type": "code",
      "source": [
        "clf = DecisionTreeClassifier(criterion=\"entropy\")"
      ],
      "metadata": {
        "id": "QX0Oas7A82r_"
      },
      "execution_count": null,
      "outputs": []
    },
    {
      "cell_type": "code",
      "source": [
        "clf.fit(X_train_tensor_features, Y_train_squeezed)"
      ],
      "metadata": {
        "colab": {
          "base_uri": "https://localhost:8080/",
          "height": 74
        },
        "id": "5lNCeyzR86aX",
        "outputId": "74ed5fcc-5e0b-41eb-a3ef-0646e7f656eb"
      },
      "execution_count": null,
      "outputs": [
        {
          "output_type": "execute_result",
          "data": {
            "text/plain": [
              "DecisionTreeClassifier(criterion='entropy')"
            ],
            "text/html": [
              "<style>#sk-container-id-2 {color: black;background-color: white;}#sk-container-id-2 pre{padding: 0;}#sk-container-id-2 div.sk-toggleable {background-color: white;}#sk-container-id-2 label.sk-toggleable__label {cursor: pointer;display: block;width: 100%;margin-bottom: 0;padding: 0.3em;box-sizing: border-box;text-align: center;}#sk-container-id-2 label.sk-toggleable__label-arrow:before {content: \"▸\";float: left;margin-right: 0.25em;color: #696969;}#sk-container-id-2 label.sk-toggleable__label-arrow:hover:before {color: black;}#sk-container-id-2 div.sk-estimator:hover label.sk-toggleable__label-arrow:before {color: black;}#sk-container-id-2 div.sk-toggleable__content {max-height: 0;max-width: 0;overflow: hidden;text-align: left;background-color: #f0f8ff;}#sk-container-id-2 div.sk-toggleable__content pre {margin: 0.2em;color: black;border-radius: 0.25em;background-color: #f0f8ff;}#sk-container-id-2 input.sk-toggleable__control:checked~div.sk-toggleable__content {max-height: 200px;max-width: 100%;overflow: auto;}#sk-container-id-2 input.sk-toggleable__control:checked~label.sk-toggleable__label-arrow:before {content: \"▾\";}#sk-container-id-2 div.sk-estimator input.sk-toggleable__control:checked~label.sk-toggleable__label {background-color: #d4ebff;}#sk-container-id-2 div.sk-label input.sk-toggleable__control:checked~label.sk-toggleable__label {background-color: #d4ebff;}#sk-container-id-2 input.sk-hidden--visually {border: 0;clip: rect(1px 1px 1px 1px);clip: rect(1px, 1px, 1px, 1px);height: 1px;margin: -1px;overflow: hidden;padding: 0;position: absolute;width: 1px;}#sk-container-id-2 div.sk-estimator {font-family: monospace;background-color: #f0f8ff;border: 1px dotted black;border-radius: 0.25em;box-sizing: border-box;margin-bottom: 0.5em;}#sk-container-id-2 div.sk-estimator:hover {background-color: #d4ebff;}#sk-container-id-2 div.sk-parallel-item::after {content: \"\";width: 100%;border-bottom: 1px solid gray;flex-grow: 1;}#sk-container-id-2 div.sk-label:hover label.sk-toggleable__label {background-color: #d4ebff;}#sk-container-id-2 div.sk-serial::before {content: \"\";position: absolute;border-left: 1px solid gray;box-sizing: border-box;top: 0;bottom: 0;left: 50%;z-index: 0;}#sk-container-id-2 div.sk-serial {display: flex;flex-direction: column;align-items: center;background-color: white;padding-right: 0.2em;padding-left: 0.2em;position: relative;}#sk-container-id-2 div.sk-item {position: relative;z-index: 1;}#sk-container-id-2 div.sk-parallel {display: flex;align-items: stretch;justify-content: center;background-color: white;position: relative;}#sk-container-id-2 div.sk-item::before, #sk-container-id-2 div.sk-parallel-item::before {content: \"\";position: absolute;border-left: 1px solid gray;box-sizing: border-box;top: 0;bottom: 0;left: 50%;z-index: -1;}#sk-container-id-2 div.sk-parallel-item {display: flex;flex-direction: column;z-index: 1;position: relative;background-color: white;}#sk-container-id-2 div.sk-parallel-item:first-child::after {align-self: flex-end;width: 50%;}#sk-container-id-2 div.sk-parallel-item:last-child::after {align-self: flex-start;width: 50%;}#sk-container-id-2 div.sk-parallel-item:only-child::after {width: 0;}#sk-container-id-2 div.sk-dashed-wrapped {border: 1px dashed gray;margin: 0 0.4em 0.5em 0.4em;box-sizing: border-box;padding-bottom: 0.4em;background-color: white;}#sk-container-id-2 div.sk-label label {font-family: monospace;font-weight: bold;display: inline-block;line-height: 1.2em;}#sk-container-id-2 div.sk-label-container {text-align: center;}#sk-container-id-2 div.sk-container {/* jupyter's `normalize.less` sets `[hidden] { display: none; }` but bootstrap.min.css set `[hidden] { display: none !important; }` so we also need the `!important` here to be able to override the default hidden behavior on the sphinx rendered scikit-learn.org. See: https://github.com/scikit-learn/scikit-learn/issues/21755 */display: inline-block !important;position: relative;}#sk-container-id-2 div.sk-text-repr-fallback {display: none;}</style><div id=\"sk-container-id-2\" class=\"sk-top-container\"><div class=\"sk-text-repr-fallback\"><pre>DecisionTreeClassifier(criterion=&#x27;entropy&#x27;)</pre><b>In a Jupyter environment, please rerun this cell to show the HTML representation or trust the notebook. <br />On GitHub, the HTML representation is unable to render, please try loading this page with nbviewer.org.</b></div><div class=\"sk-container\" hidden><div class=\"sk-item\"><div class=\"sk-estimator sk-toggleable\"><input class=\"sk-toggleable__control sk-hidden--visually\" id=\"sk-estimator-id-2\" type=\"checkbox\" checked><label for=\"sk-estimator-id-2\" class=\"sk-toggleable__label sk-toggleable__label-arrow\">DecisionTreeClassifier</label><div class=\"sk-toggleable__content\"><pre>DecisionTreeClassifier(criterion=&#x27;entropy&#x27;)</pre></div></div></div></div></div>"
            ]
          },
          "metadata": {},
          "execution_count": 45
        }
      ]
    },
    {
      "cell_type": "code",
      "source": [
        "from sklearn.metrics import accuracy_score, classification_report"
      ],
      "metadata": {
        "id": "gkfKUdFf9WhZ"
      },
      "execution_count": null,
      "outputs": []
    },
    {
      "cell_type": "code",
      "source": [
        "# Make predictions\n",
        "y_pred = clf.predict(X_test_tensor_features)"
      ],
      "metadata": {
        "id": "Tcc4T6t89bCA"
      },
      "execution_count": null,
      "outputs": []
    },
    {
      "cell_type": "code",
      "source": [
        "accuracy = accuracy_score(Y_test_squeezed, y_pred)"
      ],
      "metadata": {
        "id": "6e0p-IJs93Zt"
      },
      "execution_count": null,
      "outputs": []
    },
    {
      "cell_type": "code",
      "source": [
        "print(\"Accuracy:\", accuracy)"
      ],
      "metadata": {
        "colab": {
          "base_uri": "https://localhost:8080/"
        },
        "id": "K7xXdmjJ-OD9",
        "outputId": "ee18d701-a9ec-44a7-9af2-a1659e6048b3"
      },
      "execution_count": null,
      "outputs": [
        {
          "output_type": "stream",
          "name": "stdout",
          "text": [
            "Accuracy: 0.9818181818181818\n"
          ]
        }
      ]
    },
    {
      "cell_type": "code",
      "source": [],
      "metadata": {
        "id": "vylo5Z-e-RXX"
      },
      "execution_count": null,
      "outputs": []
    }
  ]
}